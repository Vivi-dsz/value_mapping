{
 "cells": [
  {
   "cell_type": "markdown",
   "id": "0c4ec00f",
   "metadata": {
    "vscode": {
     "languageId": "plaintext"
    }
   },
   "source": [
    "The code below is aimed to work with a following format:\n",
    "1. preprocessed text in a df format column=brand_name, column_2=tokens\n",
    "2. kw dictionary with a main value and synonyms \n",
    "kw_dict = {\n",
    "    \"security\": [\"safe\", \"secure\", \"encrypted\"],\n",
    "    \"speed\": [\"fast\", \"instant\", \"quick\"],\n",
    "    \"control\": [\"manage\", \"control\", \"insight\"]\n",
    "}"
   ]
  },
  {
   "cell_type": "code",
   "execution_count": 1,
   "id": "28c43a72",
   "metadata": {},
   "outputs": [],
   "source": [
    "from collections import Counter\n",
    "\n",
    "def flatten_kw_map(kw_dict):\n",
    "    flat_map = {}\n",
    "    for main_kw, synonyms in kw_dict.items():\n",
    "        flat_map[main_kw] = main_kw  # include the primary keyword itself\n",
    "        for word in synonyms:\n",
    "            flat_map[word] = main_kw\n",
    "    return flat_map"
   ]
  },
  {
   "cell_type": "code",
   "execution_count": 2,
   "id": "df43c826",
   "metadata": {},
   "outputs": [],
   "source": [
    "def count_kw_in_tokens(tokens, flat_map):\n",
    "    counts = Counter()\n",
    "    for token in tokens:\n",
    "        if token in flat_map:\n",
    "            counts[flat_map[token]] += 1\n",
    "    return dict(counts)"
   ]
  },
  {
   "cell_type": "code",
   "execution_count": null,
   "id": "a65b2b23",
   "metadata": {},
   "outputs": [],
   "source": [
    "#update df with kw counts\n",
    "\n",
    "flat_map = flatten_kw_map(kw_dict)\n",
    "\n",
    "df[\"kw_counts\"] = df[\"tokens\"].apply(lambda tokens: count_kw_in_tokens(tokens, flat_map))"
   ]
  },
  {
   "cell_type": "code",
   "execution_count": 4,
   "id": "933fae72",
   "metadata": {},
   "outputs": [
    {
     "ename": "NameError",
     "evalue": "name 'df' is not defined",
     "output_type": "error",
     "traceback": [
      "\u001b[31m---------------------------------------------------------------------------\u001b[39m",
      "\u001b[31mNameError\u001b[39m                                 Traceback (most recent call last)",
      "\u001b[36mCell\u001b[39m\u001b[36m \u001b[39m\u001b[32mIn[4]\u001b[39m\u001b[32m, line 4\u001b[39m\n\u001b[32m      1\u001b[39m \u001b[38;5;66;03m#create wide table with kws and count\u001b[39;00m\n\u001b[32m      2\u001b[39m \u001b[38;5;28;01mfrom\u001b[39;00m\u001b[38;5;250m \u001b[39m\u001b[34;01mpandas\u001b[39;00m\u001b[38;5;250m \u001b[39m\u001b[38;5;28;01mimport\u001b[39;00m json_normalize\n\u001b[32m----> \u001b[39m\u001b[32m4\u001b[39m df_counts = json_normalize(\u001b[43mdf\u001b[49m[\u001b[33m\"\u001b[39m\u001b[33mkw_counts\u001b[39m\u001b[33m\"\u001b[39m]).fillna(\u001b[32m0\u001b[39m).astype(\u001b[38;5;28mint\u001b[39m)\n\u001b[32m      5\u001b[39m df_final = df[[\u001b[33m\"\u001b[39m\u001b[33mbrand\u001b[39m\u001b[33m\"\u001b[39m]].join(df_counts)\n",
      "\u001b[31mNameError\u001b[39m: name 'df' is not defined"
     ]
    }
   ],
   "source": [
    "#create wide table with kws and count\n",
    "from pandas import json_normalize\n",
    "\n",
    "df_counts = json_normalize(df[\"kw_counts\"]).fillna(0).astype(int)\n",
    "df_final = df[[\"brand\"]].join(df_counts)"
   ]
  }
 ],
 "metadata": {
  "kernelspec": {
   "display_name": "value_mapping",
   "language": "python",
   "name": "python3"
  },
  "language_info": {
   "codemirror_mode": {
    "name": "ipython",
    "version": 3
   },
   "file_extension": ".py",
   "mimetype": "text/x-python",
   "name": "python",
   "nbconvert_exporter": "python",
   "pygments_lexer": "ipython3",
   "version": "3.12.9"
  }
 },
 "nbformat": 4,
 "nbformat_minor": 5
}
