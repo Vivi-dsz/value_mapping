{
 "cells": [
  {
   "cell_type": "markdown",
   "id": "5a8be02d",
   "metadata": {},
   "source": [
    "###Below keywords are hard-coded and can be extend or replaced with dynamic list"
   ]
  },
  {
   "cell_type": "code",
   "execution_count": 1,
   "id": "035e89e6",
   "metadata": {},
   "outputs": [],
   "source": [
    "keywords = [\n",
    "    \"ambition\", \"digital\", \"disruption\", \"diversity\", \"efficiency\",\n",
    "    \"honesty\", \"simple\", \"fair\", \"flexibility\", \"community\", \"parity\",\n",
    "    \"innovation\", \"integrity\", \"customer orientation\", \"bravery\",\n",
    "    \"sustainability\", \"rationality\", \"self-determination\", \"teamwork\",\n",
    "    \"transparency\", \"responsibility\", \"trust\", \"growth\",\n",
    "    \"goal orientation\", \"accessibility\"\n",
    "]"
   ]
  },
  {
   "cell_type": "code",
   "execution_count": null,
   "id": "f8ef84b0",
   "metadata": {},
   "outputs": [],
   "source": [
    "keywords_set = set(kw.lower() for kw in keywords)"
   ]
  },
  {
   "cell_type": "code",
   "execution_count": null,
   "id": "5ec87829",
   "metadata": {},
   "outputs": [],
   "source": [
    "#function to count kws in any tokenized input\n",
    "\n",
    "from collections import Counter\n",
    "\n",
    "def count_kw_in_tokens(tokens, keywords_set):\n",
    "    return Counter([t for t in tokens if t in keywords_set])"
   ]
  },
  {
   "cell_type": "code",
   "execution_count": null,
   "id": "54ab0723",
   "metadata": {},
   "outputs": [],
   "source": [
    "df[\"kw_counts\"] = df[\"tokens\"].apply(lambda tokens: count_kw_in_tokens(tokens, keywords_set))"
   ]
  },
  {
   "cell_type": "code",
   "execution_count": null,
   "id": "fb473a64",
   "metadata": {},
   "outputs": [],
   "source": [
    "##wide table for visualisations\n",
    "\n",
    "import pandas as pd\n",
    "\n",
    "kw_df = df[\"kw_counts\"].apply(pd.Series).fillna(0)\n",
    "\n",
    "kw_df[\"brand\"] = df[\"brand\"]"
   ]
  }
 ],
 "metadata": {
  "kernelspec": {
   "display_name": "value_mapping",
   "language": "python",
   "name": "python3"
  },
  "language_info": {
   "codemirror_mode": {
    "name": "ipython",
    "version": 3
   },
   "file_extension": ".py",
   "mimetype": "text/x-python",
   "name": "python",
   "nbconvert_exporter": "python",
   "pygments_lexer": "ipython3",
   "version": "3.12.9"
  }
 },
 "nbformat": 4,
 "nbformat_minor": 5
}
